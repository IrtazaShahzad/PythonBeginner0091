{
 "cells": [
  {
   "cell_type": "code",
   "execution_count": 1,
   "id": "95e376eb",
   "metadata": {},
   "outputs": [
    {
     "name": "stdout",
     "output_type": "stream",
     "text": [
      "Please enter value of x: 541\n",
      "Even:  1\n",
      "Odd:  2\n"
     ]
    }
   ],
   "source": [
    "#Code for checking all numbers in a value whether they are even or odd\n",
    "rem=even=odd=0\n",
    "x = int(input(\"Please enter value of x: \"))\n",
    "while x!=0:\n",
    "    rem=x%10\n",
    "    x=x//10\n",
    "    if rem%2==0:\n",
    "        even+=1\n",
    "    else:\n",
    "        odd+=1\n",
    "print(\"Even: \", even)\n",
    "print(\"Odd: \", odd)"
   ]
  },
  {
   "cell_type": "code",
   "execution_count": null,
   "id": "50225bcc",
   "metadata": {},
   "outputs": [],
   "source": []
  }
 ],
 "metadata": {
  "kernelspec": {
   "display_name": "Python 3 (ipykernel)",
   "language": "python",
   "name": "python3"
  },
  "language_info": {
   "codemirror_mode": {
    "name": "ipython",
    "version": 3
   },
   "file_extension": ".py",
   "mimetype": "text/x-python",
   "name": "python",
   "nbconvert_exporter": "python",
   "pygments_lexer": "ipython3",
   "version": "3.9.7"
  }
 },
 "nbformat": 4,
 "nbformat_minor": 5
}
