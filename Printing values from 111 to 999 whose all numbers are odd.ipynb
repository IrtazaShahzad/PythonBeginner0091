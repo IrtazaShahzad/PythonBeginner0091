{
 "cells": [
  {
   "cell_type": "code",
   "execution_count": 1,
   "id": "48a8065c",
   "metadata": {},
   "outputs": [
    {
     "name": "stdout",
     "output_type": "stream",
     "text": [
      "Please enter value of x: 541\n",
      "Even:  1\n",
      "Odd:  2\n"
     ]
    }
   ],
   "source": [
    "#Code for printing numbers 111 to 999 checking all numbers are odd in an value #correct code\n",
    "rem=0\n",
    "b=0\n",
    "for i in range (111,999,1):\n",
    "    even=0\n",
    "    b=i\n",
    "    while b!=0:\n",
    "        rem=b%10\n",
    "        b=b//10\n",
    "        if rem%2==0:\n",
    "            even+=1\n",
    "    if even == 0:\n",
    "        print(i)"
   ]
  },
  {
   "cell_type": "code",
   "execution_count": null,
   "id": "8fc23e1a",
   "metadata": {},
   "outputs": [],
   "source": []
  }
 ],
 "metadata": {
  "kernelspec": {
   "display_name": "Python 3 (ipykernel)",
   "language": "python",
   "name": "python3"
  },
  "language_info": {
   "codemirror_mode": {
    "name": "ipython",
    "version": 3
   },
   "file_extension": ".py",
   "mimetype": "text/x-python",
   "name": "python",
   "nbconvert_exporter": "python",
   "pygments_lexer": "ipython3",
   "version": "3.9.7"
  }
 },
 "nbformat": 4,
 "nbformat_minor": 5
}
